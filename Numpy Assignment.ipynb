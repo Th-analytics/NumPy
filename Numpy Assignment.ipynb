{
 "cells": [
  {
   "cell_type": "markdown",
   "id": "07e1455a",
   "metadata": {},
   "source": [
    "## Write a function to find moving average in an array over a window: \n",
    "Test it over [3, 5, 7, 2, 8, 10, 11, 65, 72, 81, 99, 100, 150] and window of 3"
   ]
  },
  {
   "cell_type": "code",
   "execution_count": 54,
   "id": "44bca3d9",
   "metadata": {},
   "outputs": [
    {
     "name": "stdout",
     "output_type": "stream",
     "text": [
      "Moving Average of Array: [3, 5, 7, 2, 8, 10, 11, 65, 72, 81, 99, 100, 150] is \n",
      "------------------------------\n",
      "[  65   60   73   86  125  372  641  944 1092 1213 1512]\n"
     ]
    }
   ],
   "source": [
    "import numpy as np\n",
    "def atv(List,k):\n",
    "    y =list()\n",
    "    v=[]\n",
    "    n = len(List)\n",
    "    List = [n*i for i in List]\n",
    "    movingAvg = n-k+1\n",
    "    for i in range(0,movingAvg):\n",
    "        v.clear()\n",
    "        for j in range(i,k+i):\n",
    "            v.append(List[j])\n",
    "        values = sum(v)/k\n",
    "        y.append(int(values))\n",
    "    return np.array(y)\n",
    "\n",
    "ith = [3, 5, 7, 2, 8, 10, 11, 65, 72, 81, 99, 100, 150]\n",
    "print(f\"Moving Average of Array: {ith} is \\n{'-' * 30}\\n{(atv(ith,3))}\")"
   ]
  },
  {
   "cell_type": "code",
   "execution_count": null,
   "id": "497af86f",
   "metadata": {},
   "outputs": [],
   "source": []
  }
 ],
 "metadata": {
  "kernelspec": {
   "display_name": "Python 3",
   "language": "python",
   "name": "python3"
  },
  "language_info": {
   "codemirror_mode": {
    "name": "ipython",
    "version": 3
   },
   "file_extension": ".py",
   "mimetype": "text/x-python",
   "name": "python",
   "nbconvert_exporter": "python",
   "pygments_lexer": "ipython3",
   "version": "3.8.8"
  }
 },
 "nbformat": 4,
 "nbformat_minor": 5
}
